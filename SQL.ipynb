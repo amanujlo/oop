{
 "cells": [
  {
   "cell_type": "markdown",
   "metadata": {},
   "source": [
    "# Tworzenie srodowiska wirtualnego\n",
    "### Tworzneie venv:\n",
    "`python -m venv venv` (edited)\n",
    "### Aktywacja:\n",
    "`source venv/bin/activate`\n",
    "### paczki potrzebne do SQL:\n",
    "`pip install psycopg2`\n",
    "`pip install sqlalchemy`\n",
    "### aktualizacja pliku requirements\n",
    "\n",
    "### Deaktywacja:\n",
    "`deactivate`\n",
    "### Zmiana w pliku requiremnts.txt bibliotek potrzebnych do obslugi srodowiska\n",
    "pip freeze > requirements.txt"
   ]
  }
 ],
 "metadata": {
  "kernelspec": {
   "display_name": "Python 3",
   "language": "python",
   "name": "python3"
  },
  "language_info": {
   "codemirror_mode": {
    "name": "ipython",
    "version": 3
   },
   "file_extension": ".py",
   "mimetype": "text/x-python",
   "name": "python",
   "nbconvert_exporter": "python",
   "pygments_lexer": "ipython3",
   "version": "3.6.0"
  }
 },
 "nbformat": 4,
 "nbformat_minor": 2
}
